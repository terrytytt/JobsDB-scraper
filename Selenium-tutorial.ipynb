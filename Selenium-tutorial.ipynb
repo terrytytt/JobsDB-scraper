{
 "cells": [
  {
   "cell_type": "markdown",
   "metadata": {},
   "source": [
    "1. Open browser"
   ]
  },
  {
   "cell_type": "code",
   "execution_count": 84,
   "metadata": {},
   "outputs": [
    {
     "data": {
      "text/plain": [
       "'\\nesc -> control cell start\\nm -> change cell to markdown\\ndd -> delete\\na -> add top cell\\nb -> add bottom cell\\ny -> change cell to code\\ntab -> hint\\n'"
      ]
     },
     "execution_count": 84,
     "metadata": {},
     "output_type": "execute_result"
    }
   ],
   "source": [
    "\"\"\"\n",
    "esc -> control cell start\n",
    "m -> change cell to markdown\n",
    "dd -> delete\n",
    "a -> add top cell\n",
    "b -> add bottom cell\n",
    "y -> change cell to code\n",
    "tab -> hint\n",
    "\"\"\""
   ]
  },
  {
   "cell_type": "code",
   "execution_count": 85,
   "metadata": {},
   "outputs": [],
   "source": [
    "from selenium.webdriver import Chrome"
   ]
  },
  {
   "cell_type": "code",
   "execution_count": 86,
   "metadata": {},
   "outputs": [],
   "source": [
    "browser = Chrome(executable_path=\"./resources/chromedriver\")"
   ]
  },
  {
   "cell_type": "markdown",
   "metadata": {},
   "source": [
    "2. Search Element by XPath"
   ]
  },
  {
   "cell_type": "code",
   "execution_count": 110,
   "metadata": {},
   "outputs": [],
   "source": [
    "box_xpath = '//div[@class=\"FYwKg _31UWZ fB92N_6 _1pAdR_6 FLByR_6 _2QIfI_6 _2cWXo _1Swh0 HdpOi\"]'\n",
    "title_xpath = './/div[@class=\"FYwKg _2j8fZ_6 sIMFL_6 _1JtWu_6\"]'\n",
    "description_xpath = './/ul[@class=\"FYwKg _302h6 d7v3r _2uGS9_6\"]'\n",
    "company_xpath = './/span[@class=\"FYwKg _1gtjJ _1GAuD _29LNX\"]'\n",
    "salary_and_location_xpath = './/span[@class=\"FYwKg _1GAuD C6ZIU_6 _1_nER_6 _27Shq_6 sQuda_6\"]'\n",
    "url = \"https://hk.jobsdb.com/hk/search-jobs/python/1\""
   ]
  },
  {
   "cell_type": "code",
   "execution_count": 111,
   "metadata": {},
   "outputs": [],
   "source": [
    "browser.get(url)"
   ]
  },
  {
   "cell_type": "code",
   "execution_count": 112,
   "metadata": {},
   "outputs": [],
   "source": [
    "# 1. get box element\n",
    "box_elements = browser.find_elements_by_xpath(box_xpath)"
   ]
  },
  {
   "cell_type": "code",
   "execution_count": 116,
   "metadata": {},
   "outputs": [],
   "source": [
    "# 2. get demo_title, demo_description, demo_company\n",
    "demo_box = box_elements [0]\n",
    "demo_title=demo_box.find_element_by_xpath(title_xpath).get_attribute('innerText')\n",
    "demo_description=demo_box.find_element_by_xpath(description_xpath).get_attribute('innerText')\n",
    "demo_company=demo_box.find_element_by_xpath(company_xpath).get_attribute('innerText')\n",
    "demo_salary_and_location=demo_box.find_element_by_xpath(salary_and_location_xpath).get_attribute('innerText')"
   ]
  },
  {
   "cell_type": "code",
   "execution_count": 117,
   "metadata": {
    "scrolled": true
   },
   "outputs": [
    {
     "data": {
      "text/plain": [
       "'Lively Impact Technology Limited'"
      ]
     },
     "execution_count": 117,
     "metadata": {},
     "output_type": "execute_result"
    }
   ],
   "source": [
    "demo_description\n",
    "demo_company"
   ]
  },
  {
   "cell_type": "code",
   "execution_count": 118,
   "metadata": {
    "scrolled": false
   },
   "outputs": [
    {
     "name": "stdout",
     "output_type": "stream",
     "text": [
      "Software Developer (Java and Python)\n",
      "Applications development in big data product\n",
      "Relevant experience in JAVA\n",
      "Degree in Computer Science/Information Engineering\n",
      "Lively Impact Technology Limited\n",
      "Shatin Area\n"
     ]
    }
   ],
   "source": [
    "print(demo_title)\n",
    "print(demo_description)\n",
    "print(demo_company)\n",
    "print(demo_salary_and_location)"
   ]
  },
  {
   "cell_type": "markdown",
   "metadata": {},
   "source": [
    "3. HW"
   ]
  },
  {
   "cell_type": "code",
   "execution_count": null,
   "metadata": {},
   "outputs": [],
   "source": [
    "1. function A\n",
    "- name get_job_info_dict_by_page_and_keyword\n",
    "- arg1 page, arg2 keyword\n",
    "- return (\n",
    "    title:\n",
    "    description:\n",
    "    company:\n",
    "    salary_and_location:)\n",
    "\n",
    "2. function B (pandas)\n",
    "- pd.DataFrame/ df.to_csv()\n",
    "- name: export_csv_by_info_dict\n",
    "- arg1 info_dict arg2 csv_filename\n",
    "- no return\n",
    "- csv exist in csv_filename\n",
    "- no index"
   ]
  }
 ],
 "metadata": {
  "kernelspec": {
   "display_name": "Python 3",
   "language": "python",
   "name": "python3"
  },
  "language_info": {
   "codemirror_mode": {
    "name": "ipython",
    "version": 3
   },
   "file_extension": ".py",
   "mimetype": "text/x-python",
   "name": "python",
   "nbconvert_exporter": "python",
   "pygments_lexer": "ipython3",
   "version": "3.9.0"
  }
 },
 "nbformat": 4,
 "nbformat_minor": 4
}
